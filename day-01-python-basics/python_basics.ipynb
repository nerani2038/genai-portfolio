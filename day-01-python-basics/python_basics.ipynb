{
 "cells": [
  {
   "cell_type": "markdown",
   "metadata": {},
   "source": [
    "# 1️⃣ Python 자료형 및 제어문 복습"
   ]
  },
  {
   "cell_type": "code",
   "execution_count": 1,
   "metadata": {},
   "outputs": [
    {
     "name": "stdout",
     "output_type": "stream",
     "text": [
      "양수입니다.\n",
      "Number: 0\n",
      "Number: 1\n",
      "Number: 2\n",
      "Number: 3\n",
      "Number: 4\n",
      "현재 count: 0\n",
      "현재 count: 1\n",
      "현재 count: 2\n"
     ]
    }
   ],
   "source": [
    "# 📌 기본 자료형\n",
    "integer_num = 10   # 정수형\n",
    "float_num = 3.14   # 실수형\n",
    "string_text = \"Hello, Python!\"  # 문자열\n",
    "boolean_val = True  # 불리언\n",
    "\n",
    "# 📌 리스트 & 딕셔너리\n",
    "my_list = [1, 2, 3, 4, 5]\n",
    "my_dict = {\"name\": \"Alice\", \"age\": 25}\n",
    "\n",
    "# 📌 조건문 (if-elif-else)\n",
    "x = 10\n",
    "if x > 0:\n",
    "    print(\"양수입니다.\")\n",
    "elif x < 0:\n",
    "    print(\"음수입니다.\")\n",
    "else:\n",
    "    print(\"0입니다.\")\n",
    "\n",
    "# 📌 반복문 (for, while)\n",
    "for num in range(5):\n",
    "    print(f\"Number: {num}\")\n",
    "\n",
    "count = 0\n",
    "while count < 3:\n",
    "    print(f\"현재 count: {count}\")\n",
    "    count += 1\n"
   ]
  },
  {
   "cell_type": "markdown",
   "metadata": {},
   "source": [
    "# 2️⃣ 람다 함수와 map(), filter(), reduce() 활용"
   ]
  },
  {
   "cell_type": "code",
   "execution_count": 2,
   "metadata": {},
   "outputs": [
    {
     "name": "stdout",
     "output_type": "stream",
     "text": [
      "25\n",
      "[1, 4, 9, 16, 25]\n",
      "[2, 4]\n",
      "15\n"
     ]
    }
   ],
   "source": [
    "from functools import reduce\n",
    "\n",
    "# 📌 람다 함수\n",
    "square = lambda x: x ** 2\n",
    "print(square(5))  # 25\n",
    "\n",
    "# 📌 map() - 리스트의 모든 원소에 적용\n",
    "numbers = [1, 2, 3, 4, 5]\n",
    "squared_numbers = list(map(lambda x: x ** 2, numbers))\n",
    "print(squared_numbers)  # [1, 4, 9, 16, 25]\n",
    "\n",
    "# 📌 filter() - 특정 조건을 만족하는 원소만 선택\n",
    "even_numbers = list(filter(lambda x: x % 2 == 0, numbers))\n",
    "print(even_numbers)  # [2, 4]\n",
    "\n",
    "# 📌 reduce() - 리스트의 모든 원소를 누적 계산\n",
    "sum_numbers = reduce(lambda x, y: x + y, numbers)\n",
    "print(sum_numbers)  # 15\n"
   ]
  },
  {
   "cell_type": "markdown",
   "metadata": {},
   "source": [
    "# 3️⃣ OOP 개념 학습 (클래스, 상속, 오버라이딩)"
   ]
  },
  {
   "cell_type": "code",
   "execution_count": 3,
   "metadata": {},
   "outputs": [
    {
     "name": "stdout",
     "output_type": "stream",
     "text": [
      "바둑이가 내는 소리: 멍멍!\n",
      "나비가 내는 소리: 야옹!\n"
     ]
    }
   ],
   "source": [
    "# 📌 클래스 & 객체\n",
    "class Animal:\n",
    "    def __init__(self, name):\n",
    "        self.name = name\n",
    "\n",
    "    def speak(self):\n",
    "        return \"소리를 낼 수 있음\"\n",
    "\n",
    "# 📌 상속\n",
    "class Dog(Animal):\n",
    "    def speak(self):  # 메서드 오버라이딩\n",
    "        return \"멍멍!\"\n",
    "\n",
    "class Cat(Animal):\n",
    "    def speak(self):\n",
    "        return \"야옹!\"\n",
    "\n",
    "dog = Dog(\"바둑이\")\n",
    "cat = Cat(\"나비\")\n",
    "\n",
    "print(f\"{dog.name}가 내는 소리: {dog.speak()}\")  # 바둑이가 내는 소리: 멍멍!\n",
    "print(f\"{cat.name}가 내는 소리: {cat.speak()}\")  # 나비가 내는 소리: 야옹!\n"
   ]
  },
  {
   "cell_type": "markdown",
   "metadata": {},
   "source": [
    "# 4️⃣ 실전 문제 풀이 (3~5개)"
   ]
  },
  {
   "cell_type": "markdown",
   "metadata": {},
   "source": [
    "## 💡 문제 1: 리스트 내 최대값 찾기"
   ]
  },
  {
   "cell_type": "code",
   "execution_count": 4,
   "metadata": {},
   "outputs": [
    {
     "name": "stdout",
     "output_type": "stream",
     "text": [
      "9\n"
     ]
    }
   ],
   "source": [
    "def find_max(numbers):\n",
    "    return max(numbers)\n",
    "\n",
    "print(find_max([3, 7, 2, 9, 5]))  # 9\n"
   ]
  },
  {
   "cell_type": "markdown",
   "metadata": {},
   "source": [
    "## 💡 문제 2: 주어진 리스트에서 짝수만 출력하기"
   ]
  },
  {
   "cell_type": "code",
   "execution_count": 5,
   "metadata": {},
   "outputs": [
    {
     "name": "stdout",
     "output_type": "stream",
     "text": [
      "[2, 4, 6]\n"
     ]
    }
   ],
   "source": [
    "def get_even_numbers(numbers):\n",
    "    return list(filter(lambda x: x % 2 == 0, numbers))\n",
    "\n",
    "print(get_even_numbers([1, 2, 3, 4, 5, 6]))  # [2, 4, 6]\n"
   ]
  },
  {
   "cell_type": "markdown",
   "metadata": {},
   "source": [
    "## 💡 문제 3: 주어진 문자열을 거꾸로 출력하기"
   ]
  },
  {
   "cell_type": "code",
   "execution_count": 6,
   "metadata": {},
   "outputs": [
    {
     "name": "stdout",
     "output_type": "stream",
     "text": [
      "nohtyP\n"
     ]
    }
   ],
   "source": [
    "def reverse_string(text):\n",
    "    return text[::-1]\n",
    "\n",
    "print(reverse_string(\"Python\"))  # nohtyP\n"
   ]
  },
  {
   "cell_type": "markdown",
   "metadata": {},
   "source": [
    "## 💡 문제 4: 팩토리얼 계산하기 (재귀 사용)"
   ]
  },
  {
   "cell_type": "code",
   "execution_count": 7,
   "metadata": {},
   "outputs": [
    {
     "name": "stdout",
     "output_type": "stream",
     "text": [
      "120\n"
     ]
    }
   ],
   "source": [
    "def factorial(n):\n",
    "    if n == 0:\n",
    "        return 1\n",
    "    return n * factorial(n - 1)\n",
    "\n",
    "print(factorial(5))  # 120\n"
   ]
  },
  {
   "cell_type": "markdown",
   "metadata": {},
   "source": [
    "## 💡 문제 5: 리스트의 요소를 제곱한 후 합 구하기"
   ]
  },
  {
   "cell_type": "code",
   "execution_count": 8,
   "metadata": {},
   "outputs": [
    {
     "name": "stdout",
     "output_type": "stream",
     "text": [
      "30\n"
     ]
    }
   ],
   "source": [
    "def sum_of_squares(numbers):\n",
    "    return sum(map(lambda x: x**2, numbers))\n",
    "\n",
    "print(sum_of_squares([1, 2, 3, 4]))  # 30\n"
   ]
  }
 ],
 "metadata": {
  "kernelspec": {
   "display_name": "genai_env",
   "language": "python",
   "name": "python3"
  },
  "language_info": {
   "codemirror_mode": {
    "name": "ipython",
    "version": 3
   },
   "file_extension": ".py",
   "mimetype": "text/x-python",
   "name": "python",
   "nbconvert_exporter": "python",
   "pygments_lexer": "ipython3",
   "version": "3.9.21"
  }
 },
 "nbformat": 4,
 "nbformat_minor": 2
}
